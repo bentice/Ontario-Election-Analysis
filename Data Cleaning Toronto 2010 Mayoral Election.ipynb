{
 "cells": [
  {
   "cell_type": "code",
   "execution_count": 1,
   "metadata": {},
   "outputs": [],
   "source": [
    "import os\n",
    "%matplotlib inline\n",
    "import pandas as pd\n",
    "from pandas import ExcelWriter\n",
    "from pandas import ExcelFile\n",
    "import numpy as np\n",
    "import matplotlib.pyplot as plt\n",
    "import geopandas as gpd\n",
    "import geoviews as gv"
   ]
  },
  {
   "cell_type": "markdown",
   "metadata": {},
   "source": [
    "Load Shapefile of Toronto Municipal Wards"
   ]
  },
  {
   "cell_type": "code",
   "execution_count": 2,
   "metadata": {},
   "outputs": [],
   "source": [
    "shp_file = './Toronto/wards_may2010_wgs84/gcc/Projects/Open Data/Files/Data Upload - May 2010/May2010_WGS84'\n",
    "toronto2010 = gpd.read_file(shp_file)"
   ]
  },
  {
   "cell_type": "markdown",
   "metadata": {},
   "source": [
    "Ward 1 Mayoral Election. Each Ward is on its own sheet and I am currently only interested in the totals so I will create a new dataframe witht the total from each ward. "
   ]
  },
  {
   "cell_type": "code",
   "execution_count": 3,
   "metadata": {},
   "outputs": [],
   "source": [
    "excelmayor2010 = './Toronto/2010_results/2010_Toronto_Poll_by_Poll_Mayor.xls'\n",
    "mayor10 = pd.DataFrame()\n",
    "mayor10[\"Candidates\"] = pd.read_excel(io = excelmayor2010, sheet_name = 1, header=1)[\"Subdivision\"]"
   ]
  },
  {
   "cell_type": "markdown",
   "metadata": {},
   "source": [
    "Populate the pandas dataframe to use with shape files"
   ]
  },
  {
   "cell_type": "markdown",
   "metadata": {},
   "source": [
    "Extract Total Votes from each Toronto City Ward"
   ]
  },
  {
   "cell_type": "code",
   "execution_count": 4,
   "metadata": {
    "scrolled": true
   },
   "outputs": [
    {
     "data": {
      "text/html": [
       "<div>\n",
       "<style scoped>\n",
       "    .dataframe tbody tr th:only-of-type {\n",
       "        vertical-align: middle;\n",
       "    }\n",
       "\n",
       "    .dataframe tbody tr th {\n",
       "        vertical-align: top;\n",
       "    }\n",
       "\n",
       "    .dataframe thead th {\n",
       "        text-align: right;\n",
       "    }\n",
       "</style>\n",
       "<table border=\"1\" class=\"dataframe\">\n",
       "  <thead>\n",
       "    <tr style=\"text-align: right;\">\n",
       "      <th></th>\n",
       "      <th>Candidates</th>\n",
       "      <th>1</th>\n",
       "      <th>2</th>\n",
       "      <th>3</th>\n",
       "      <th>4</th>\n",
       "      <th>5</th>\n",
       "      <th>6</th>\n",
       "      <th>7</th>\n",
       "      <th>8</th>\n",
       "      <th>9</th>\n",
       "      <th>...</th>\n",
       "      <th>35</th>\n",
       "      <th>36</th>\n",
       "      <th>37</th>\n",
       "      <th>38</th>\n",
       "      <th>39</th>\n",
       "      <th>40</th>\n",
       "      <th>41</th>\n",
       "      <th>42</th>\n",
       "      <th>43</th>\n",
       "      <th>44</th>\n",
       "    </tr>\n",
       "  </thead>\n",
       "  <tbody>\n",
       "    <tr>\n",
       "      <th>0</th>\n",
       "      <td>ACHAMPONG ROCCO</td>\n",
       "      <td>151</td>\n",
       "      <td>52</td>\n",
       "      <td>39</td>\n",
       "      <td>37</td>\n",
       "      <td>45</td>\n",
       "      <td>57</td>\n",
       "      <td>123</td>\n",
       "      <td>209</td>\n",
       "      <td>98</td>\n",
       "      <td>...</td>\n",
       "      <td>51</td>\n",
       "      <td>44</td>\n",
       "      <td>40</td>\n",
       "      <td>72</td>\n",
       "      <td>38</td>\n",
       "      <td>74</td>\n",
       "      <td>51</td>\n",
       "      <td>112</td>\n",
       "      <td>69</td>\n",
       "      <td>56</td>\n",
       "    </tr>\n",
       "    <tr>\n",
       "      <th>1</th>\n",
       "      <td>ALEXANDER MICHAEL</td>\n",
       "      <td>49</td>\n",
       "      <td>28</td>\n",
       "      <td>20</td>\n",
       "      <td>28</td>\n",
       "      <td>49</td>\n",
       "      <td>56</td>\n",
       "      <td>77</td>\n",
       "      <td>163</td>\n",
       "      <td>83</td>\n",
       "      <td>...</td>\n",
       "      <td>118</td>\n",
       "      <td>34</td>\n",
       "      <td>102</td>\n",
       "      <td>76</td>\n",
       "      <td>76</td>\n",
       "      <td>106</td>\n",
       "      <td>54</td>\n",
       "      <td>117</td>\n",
       "      <td>69</td>\n",
       "      <td>42</td>\n",
       "    </tr>\n",
       "    <tr>\n",
       "      <th>2</th>\n",
       "      <td>ANDREWS DON</td>\n",
       "      <td>26</td>\n",
       "      <td>18</td>\n",
       "      <td>10</td>\n",
       "      <td>8</td>\n",
       "      <td>17</td>\n",
       "      <td>14</td>\n",
       "      <td>31</td>\n",
       "      <td>47</td>\n",
       "      <td>27</td>\n",
       "      <td>...</td>\n",
       "      <td>47</td>\n",
       "      <td>22</td>\n",
       "      <td>26</td>\n",
       "      <td>31</td>\n",
       "      <td>30</td>\n",
       "      <td>39</td>\n",
       "      <td>39</td>\n",
       "      <td>42</td>\n",
       "      <td>27</td>\n",
       "      <td>33</td>\n",
       "    </tr>\n",
       "    <tr>\n",
       "      <th>3</th>\n",
       "      <td>BABULA GEORGE</td>\n",
       "      <td>90</td>\n",
       "      <td>25</td>\n",
       "      <td>43</td>\n",
       "      <td>50</td>\n",
       "      <td>47</td>\n",
       "      <td>58</td>\n",
       "      <td>88</td>\n",
       "      <td>101</td>\n",
       "      <td>64</td>\n",
       "      <td>...</td>\n",
       "      <td>106</td>\n",
       "      <td>54</td>\n",
       "      <td>109</td>\n",
       "      <td>117</td>\n",
       "      <td>76</td>\n",
       "      <td>109</td>\n",
       "      <td>94</td>\n",
       "      <td>319</td>\n",
       "      <td>114</td>\n",
       "      <td>68</td>\n",
       "    </tr>\n",
       "    <tr>\n",
       "      <th>4</th>\n",
       "      <td>BALL CHRISTOPHER</td>\n",
       "      <td>21</td>\n",
       "      <td>12</td>\n",
       "      <td>11</td>\n",
       "      <td>10</td>\n",
       "      <td>17</td>\n",
       "      <td>8</td>\n",
       "      <td>28</td>\n",
       "      <td>27</td>\n",
       "      <td>18</td>\n",
       "      <td>...</td>\n",
       "      <td>18</td>\n",
       "      <td>9</td>\n",
       "      <td>16</td>\n",
       "      <td>25</td>\n",
       "      <td>19</td>\n",
       "      <td>30</td>\n",
       "      <td>22</td>\n",
       "      <td>43</td>\n",
       "      <td>31</td>\n",
       "      <td>16</td>\n",
       "    </tr>\n",
       "  </tbody>\n",
       "</table>\n",
       "<p>5 rows × 45 columns</p>\n",
       "</div>"
      ],
      "text/plain": [
       "          Candidates    1   2   3   4   5   6    7    8   9 ...   35  36   37  \\\n",
       "0    ACHAMPONG ROCCO  151  52  39  37  45  57  123  209  98 ...   51  44   40   \n",
       "1  ALEXANDER MICHAEL   49  28  20  28  49  56   77  163  83 ...  118  34  102   \n",
       "2        ANDREWS DON   26  18  10   8  17  14   31   47  27 ...   47  22   26   \n",
       "3      BABULA GEORGE   90  25  43  50  47  58   88  101  64 ...  106  54  109   \n",
       "4   BALL CHRISTOPHER   21  12  11  10  17   8   28   27  18 ...   18   9   16   \n",
       "\n",
       "    38  39   40  41   42   43  44  \n",
       "0   72  38   74  51  112   69  56  \n",
       "1   76  76  106  54  117   69  42  \n",
       "2   31  30   39  39   42   27  33  \n",
       "3  117  76  109  94  319  114  68  \n",
       "4   25  19   30  22   43   31  16  \n",
       "\n",
       "[5 rows x 45 columns]"
      ]
     },
     "execution_count": 4,
     "metadata": {},
     "output_type": "execute_result"
    }
   ],
   "source": [
    "for i in range(44):\n",
    "    mayor2010 = pd.read_excel(io = excelmayor2010, sheet_name = i, header=1)\n",
    "    mayor10[str(i+1)] = mayor2010[\"Total\"].astype(\"int\")\n",
    "mayor10.head()"
   ]
  },
  {
   "cell_type": "code",
   "execution_count": 5,
   "metadata": {},
   "outputs": [],
   "source": [
    "mayor10.Candidates = mayor10.Candidates.astype(\"str\")\n",
    "mayor10.Candidates = mayor10.Candidates.replace(' ', '_', regex=True)\n",
    "mayor10f = mayor10.drop(index=40)"
   ]
  },
  {
   "cell_type": "code",
   "execution_count": 6,
   "metadata": {},
   "outputs": [],
   "source": [
    "mayor10f = mayor10f.T.reset_index()\n",
    "mayor10f.columns = mayor10f.iloc[0]\n",
    "mayor10f = mayor10f.drop(index=0)\n",
    "mayor10f = mayor10f.reset_index()\n",
    "mayor10f = mayor10f.rename(columns = {\"Candidates\": \"SCODE_NAME\"})\n",
    "mayor10f.SCODE_NAME = mayor10f.SCODE_NAME.astype(\"int\")\n",
    "toronto2010.SCODE_NAME = toronto2010.SCODE_NAME.astype('int')\n",
    "mayor10f = mayor10f.astype(\"int\")"
   ]
  },
  {
   "cell_type": "code",
   "execution_count": 7,
   "metadata": {},
   "outputs": [],
   "source": [
    "to_mayor_election = gpd.GeoDataFrame(pd.merge(toronto2010, mayor10f))"
   ]
  },
  {
   "cell_type": "markdown",
   "metadata": {},
   "source": [
    "## Write Clean File"
   ]
  },
  {
   "cell_type": "code",
   "execution_count": 8,
   "metadata": {},
   "outputs": [
    {
     "data": {
      "text/plain": [
       "<function TextIOWrapper.close()>"
      ]
     },
     "execution_count": 8,
     "metadata": {},
     "output_type": "execute_result"
    }
   ],
   "source": [
    "os.chdir(\"./Cleaned Data\")\n",
    "file = open(\"2010_Toronto_Mayoral_Election.json\", \"w+\")\n",
    "file.write(to_mayor_election.to_json())\n",
    "file.close"
   ]
  }
 ],
 "metadata": {
  "kernelspec": {
   "display_name": "Python 3",
   "language": "python",
   "name": "python3"
  },
  "language_info": {
   "codemirror_mode": {
    "name": "ipython",
    "version": 3
   },
   "file_extension": ".py",
   "mimetype": "text/x-python",
   "name": "python",
   "nbconvert_exporter": "python",
   "pygments_lexer": "ipython3",
   "version": "3.5.5"
  }
 },
 "nbformat": 4,
 "nbformat_minor": 2
}
